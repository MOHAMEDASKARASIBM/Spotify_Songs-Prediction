{
 "cells": [
  {
   "cell_type": "code",
   "execution_count": 23,
   "id": "b9b9eb15",
   "metadata": {},
   "outputs": [
    {
     "name": "stdout",
     "output_type": "stream",
     "text": [
      "Code-book :\n",
      " [[2.87254652 5.91752196]\n",
      " [4.52391557 8.48643485]\n",
      " [2.14675016 8.53563478]\n",
      " [3.42777194 8.4874483 ]] \n",
      "\n",
      "Clusters :\n",
      " [0 0 2 ... 3 1 1] \n",
      "\n",
      "total records 586672\n",
      "No.of.songs in poor 71082\n",
      "No.of.average quality 167059\n",
      "No.of.good quality : 123419\n",
      "No.of.hit quality : 225112\n"
     ]
    },
    {
     "data": {
      "image/png": "[encoded data removed]",
      "text/plain": [
       "<Figure size 432x288 with 1 Axes>"
      ]
     },
     "metadata": {},
     "output_type": "display_data"
    }
   ],
   "source": [
    "# import modules\n",
    "import matplotlib.pyplot as plt\n",
    "import numpy as np\n",
    "import pandas as pd\n",
    "from scipy.cluster.vq import whiten, kmeans, vq\n",
    "\n",
    "# load the dataset\n",
    "x=pd.read_csv(\"tracks.csv\")\n",
    "dataset=x.iloc[:, [8,19]].values\n",
    "# print(x)\n",
    "# # normalize\n",
    "dataset = whiten(dataset)\n",
    "\n",
    "# # generate code book\n",
    "centroids, mean_dist = kmeans(dataset, 4)\n",
    "print(\"Code-book :\\n\", centroids, \"\\n\")\n",
    "\n",
    "clusters, dist = vq(dataset, centroids)\n",
    "print(\"Clusters :\\n\", clusters, \"\\n\")\n",
    "\n",
    "# # count non-diabetic patients\n",
    "non_diab1 = list(clusters).count(0)\n",
    "\n",
    "# # count diabetic patients\n",
    "diab1= list(clusters).count(1)\n",
    "non_diab2 = list(clusters).count(2)\n",
    "diab2= list(clusters).count(3)\n",
    "# # depict illustration\n",
    "x_axis = []\n",
    "x_axis.append(non_diab1)\n",
    "x_axis.append(diab1)\n",
    "x_axis.append(non_diab2)\n",
    "x_axis.append(diab2)\n",
    "\n",
    "\n",
    "print(f\"total records {non_diab1+diab1+non_diab2+diab2}\")\n",
    "colors = ['green', 'orange','blue','red']\n",
    "\n",
    "print(\"No.of.songs in poor \" + str(x_axis[0]) +\"\\nNo.of.average quality \" + str(x_axis[1]) +\"\\nNo.of.good quality : \" + str(x_axis[2]) +\"\\nNo.of.hit quality : \" + str(x_axis[3]))\n",
    "\n",
    "y = ['poor', 'average','good','hit']\n",
    "\n",
    "plt.pie(x_axis, labels=y, colors=colors, shadow='true')\n",
    "plt.show()\n"
   ]
  },
  {
   "cell_type": "code",
   "execution_count": null,
   "id": "67758ff0",
   "metadata": {},
   "outputs": [],
   "source": []
  }
 ],
 "metadata": {
  "kernelspec": {
   "display_name": "Python 3 (ipykernel)",
   "language": "python",
   "name": "python3"
  },
  "language_info": {
   "codemirror_mode": {
    "name": "ipython",
    "version": 3
   },
   "file_extension": ".py",
   "mimetype": "text/x-python",
   "name": "python",
   "nbconvert_exporter": "python",
   "pygments_lexer": "ipython3",
   "version": "3.9.12"
  }
 },
 "nbformat": 4,
 "nbformat_minor": 5
}
